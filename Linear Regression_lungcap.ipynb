{
 "cells": [
  {
   "cell_type": "code",
   "execution_count": 1,
   "id": "e89513a5-4e6b-449b-adc6-daafa18c7b64",
   "metadata": {},
   "outputs": [],
   "source": [
    "import pandas as pd\n",
    "import warnings\n",
    "warnings.filterwarnings(\"ignore\")"
   ]
  },
  {
   "cell_type": "code",
   "execution_count": 7,
   "id": "fa3a01f2-e176-40af-b8ef-c556b69e9219",
   "metadata": {},
   "outputs": [],
   "source": [
    "lcn = pd.read_csv(r\"C:\\Users\\User\\OneDrive\\Desktop\\python\\LungCapData.csv\")\n"
   ]
  },
  {
   "cell_type": "code",
   "execution_count": 9,
   "id": "6becab5a-e8c4-4ce8-8f3a-c9b32a4d2044",
   "metadata": {},
   "outputs": [
    {
     "data": {
      "text/html": [
       "<div>\n",
       "<style scoped>\n",
       "    .dataframe tbody tr th:only-of-type {\n",
       "        vertical-align: middle;\n",
       "    }\n",
       "\n",
       "    .dataframe tbody tr th {\n",
       "        vertical-align: top;\n",
       "    }\n",
       "\n",
       "    .dataframe thead th {\n",
       "        text-align: right;\n",
       "    }\n",
       "</style>\n",
       "<table border=\"1\" class=\"dataframe\">\n",
       "  <thead>\n",
       "    <tr style=\"text-align: right;\">\n",
       "      <th></th>\n",
       "      <th>LungCap</th>\n",
       "      <th>Age</th>\n",
       "      <th>Height</th>\n",
       "      <th>Smoke</th>\n",
       "      <th>Gender</th>\n",
       "      <th>Caesarean</th>\n",
       "    </tr>\n",
       "  </thead>\n",
       "  <tbody>\n",
       "    <tr>\n",
       "      <th>0</th>\n",
       "      <td>6.475</td>\n",
       "      <td>6</td>\n",
       "      <td>62.1</td>\n",
       "      <td>no</td>\n",
       "      <td>male</td>\n",
       "      <td>no</td>\n",
       "    </tr>\n",
       "    <tr>\n",
       "      <th>1</th>\n",
       "      <td>10.125</td>\n",
       "      <td>18</td>\n",
       "      <td>74.7</td>\n",
       "      <td>yes</td>\n",
       "      <td>female</td>\n",
       "      <td>no</td>\n",
       "    </tr>\n",
       "    <tr>\n",
       "      <th>2</th>\n",
       "      <td>9.550</td>\n",
       "      <td>16</td>\n",
       "      <td>69.7</td>\n",
       "      <td>no</td>\n",
       "      <td>female</td>\n",
       "      <td>yes</td>\n",
       "    </tr>\n",
       "    <tr>\n",
       "      <th>3</th>\n",
       "      <td>11.125</td>\n",
       "      <td>14</td>\n",
       "      <td>71.0</td>\n",
       "      <td>no</td>\n",
       "      <td>male</td>\n",
       "      <td>no</td>\n",
       "    </tr>\n",
       "    <tr>\n",
       "      <th>4</th>\n",
       "      <td>4.800</td>\n",
       "      <td>5</td>\n",
       "      <td>56.9</td>\n",
       "      <td>no</td>\n",
       "      <td>male</td>\n",
       "      <td>no</td>\n",
       "    </tr>\n",
       "  </tbody>\n",
       "</table>\n",
       "</div>"
      ],
      "text/plain": [
       "   LungCap  Age  Height Smoke  Gender Caesarean\n",
       "0    6.475    6    62.1    no    male        no\n",
       "1   10.125   18    74.7   yes  female        no\n",
       "2    9.550   16    69.7    no  female       yes\n",
       "3   11.125   14    71.0    no    male        no\n",
       "4    4.800    5    56.9    no    male        no"
      ]
     },
     "execution_count": 9,
     "metadata": {},
     "output_type": "execute_result"
    }
   ],
   "source": [
    "lcn.head()"
   ]
  },
  {
   "cell_type": "raw",
   "id": "d0f1b769-3e04-4cdf-90de-be9eabacc2f3",
   "metadata": {},
   "source": [
    "steps:-\n",
    "1)  to build a predictive model which will predict lung capacity  (y--> target variable)\n",
    "2) lcn the given data\n",
    "3) data cleaning or preprocessing\n",
    "4) random Sampling\n"
   ]
  },
  {
   "cell_type": "code",
   "execution_count": 11,
   "id": "4b25072e-0c41-4c78-8905-2415ad2e942d",
   "metadata": {},
   "outputs": [
    {
     "data": {
      "text/plain": [
       "Series([], dtype: int64)"
      ]
     },
     "execution_count": 11,
     "metadata": {},
     "output_type": "execute_result"
    }
   ],
   "source": [
    "lcn.isnull().sum()[lcn.isnull().sum() > 0]"
   ]
  },
  {
   "cell_type": "code",
   "execution_count": 13,
   "id": "650908ef-ccc1-42fa-b48e-e8bc6040a075",
   "metadata": {},
   "outputs": [],
   "source": [
    "lcn.Smoke.replace({'no': 0, 'yes': 1}, inplace = True)\n",
    "lcn.Gender.replace({'male': 0, 'female': 1}, inplace = True)\n",
    "lcn.Caesarean.replace({'no': 0, 'yes': 1}, inplace = True)"
   ]
  },
  {
   "cell_type": "code",
   "execution_count": 15,
   "id": "b25eb6e3-8cc2-48d0-b03d-02107d1f2450",
   "metadata": {},
   "outputs": [
    {
     "data": {
      "text/html": [
       "<div>\n",
       "<style scoped>\n",
       "    .dataframe tbody tr th:only-of-type {\n",
       "        vertical-align: middle;\n",
       "    }\n",
       "\n",
       "    .dataframe tbody tr th {\n",
       "        vertical-align: top;\n",
       "    }\n",
       "\n",
       "    .dataframe thead th {\n",
       "        text-align: right;\n",
       "    }\n",
       "</style>\n",
       "<table border=\"1\" class=\"dataframe\">\n",
       "  <thead>\n",
       "    <tr style=\"text-align: right;\">\n",
       "      <th></th>\n",
       "      <th>LungCap</th>\n",
       "      <th>Age</th>\n",
       "      <th>Height</th>\n",
       "      <th>Smoke</th>\n",
       "      <th>Gender</th>\n",
       "      <th>Caesarean</th>\n",
       "    </tr>\n",
       "  </thead>\n",
       "  <tbody>\n",
       "    <tr>\n",
       "      <th>0</th>\n",
       "      <td>6.475</td>\n",
       "      <td>6</td>\n",
       "      <td>62.1</td>\n",
       "      <td>0</td>\n",
       "      <td>0</td>\n",
       "      <td>0</td>\n",
       "    </tr>\n",
       "    <tr>\n",
       "      <th>1</th>\n",
       "      <td>10.125</td>\n",
       "      <td>18</td>\n",
       "      <td>74.7</td>\n",
       "      <td>1</td>\n",
       "      <td>1</td>\n",
       "      <td>0</td>\n",
       "    </tr>\n",
       "    <tr>\n",
       "      <th>2</th>\n",
       "      <td>9.550</td>\n",
       "      <td>16</td>\n",
       "      <td>69.7</td>\n",
       "      <td>0</td>\n",
       "      <td>1</td>\n",
       "      <td>1</td>\n",
       "    </tr>\n",
       "    <tr>\n",
       "      <th>3</th>\n",
       "      <td>11.125</td>\n",
       "      <td>14</td>\n",
       "      <td>71.0</td>\n",
       "      <td>0</td>\n",
       "      <td>0</td>\n",
       "      <td>0</td>\n",
       "    </tr>\n",
       "    <tr>\n",
       "      <th>4</th>\n",
       "      <td>4.800</td>\n",
       "      <td>5</td>\n",
       "      <td>56.9</td>\n",
       "      <td>0</td>\n",
       "      <td>0</td>\n",
       "      <td>0</td>\n",
       "    </tr>\n",
       "  </tbody>\n",
       "</table>\n",
       "</div>"
      ],
      "text/plain": [
       "   LungCap  Age  Height  Smoke  Gender  Caesarean\n",
       "0    6.475    6    62.1      0       0          0\n",
       "1   10.125   18    74.7      1       1          0\n",
       "2    9.550   16    69.7      0       1          1\n",
       "3   11.125   14    71.0      0       0          0\n",
       "4    4.800    5    56.9      0       0          0"
      ]
     },
     "execution_count": 15,
     "metadata": {},
     "output_type": "execute_result"
    }
   ],
   "source": [
    "lcn.head()"
   ]
  },
  {
   "cell_type": "code",
   "execution_count": 17,
   "id": "20c37f2b-329d-46be-a777-a1bac4fb2b13",
   "metadata": {},
   "outputs": [],
   "source": [
    "from sklearn.model_selection import train_test_split"
   ]
  },
  {
   "cell_type": "code",
   "execution_count": 19,
   "id": "985acbee-6754-4638-b5b1-c61482bf3560",
   "metadata": {},
   "outputs": [],
   "source": [
    "lcn_train, lcn_test = train_test_split(lcn, test_size = 0.2)"
   ]
  },
  {
   "cell_type": "code",
   "execution_count": 21,
   "id": "70dec184-8924-4827-91c6-b43b537affb8",
   "metadata": {},
   "outputs": [],
   "source": [
    "lcn_train_x = lcn_train.iloc[:, [1,2,3,4,5]]\n",
    "lcn_train_y = lcn_train.iloc[:, 0]\n",
    "\n",
    "lcn_test_x = lcn_test.iloc[:, [1,2,3,4,5]]\n",
    "lcn_test_y = lcn_test.iloc[:, 0]\n",
    "\n"
   ]
  },
  {
   "cell_type": "code",
   "execution_count": 23,
   "id": "5e975e86-3ff2-4213-b790-a94673161e57",
   "metadata": {},
   "outputs": [
    {
     "data": {
      "text/html": [
       "<style>#sk-container-id-1 {\n",
       "  /* Definition of color scheme common for light and dark mode */\n",
       "  --sklearn-color-text: black;\n",
       "  --sklearn-color-line: gray;\n",
       "  /* Definition of color scheme for unfitted estimators */\n",
       "  --sklearn-color-unfitted-level-0: #fff5e6;\n",
       "  --sklearn-color-unfitted-level-1: #f6e4d2;\n",
       "  --sklearn-color-unfitted-level-2: #ffe0b3;\n",
       "  --sklearn-color-unfitted-level-3: chocolate;\n",
       "  /* Definition of color scheme for fitted estimators */\n",
       "  --sklearn-color-fitted-level-0: #f0f8ff;\n",
       "  --sklearn-color-fitted-level-1: #d4ebff;\n",
       "  --sklearn-color-fitted-level-2: #b3dbfd;\n",
       "  --sklearn-color-fitted-level-3: cornflowerblue;\n",
       "\n",
       "  /* Specific color for light theme */\n",
       "  --sklearn-color-text-on-default-background: var(--sg-text-color, var(--theme-code-foreground, var(--jp-content-font-color1, black)));\n",
       "  --sklearn-color-background: var(--sg-background-color, var(--theme-background, var(--jp-layout-color0, white)));\n",
       "  --sklearn-color-border-box: var(--sg-text-color, var(--theme-code-foreground, var(--jp-content-font-color1, black)));\n",
       "  --sklearn-color-icon: #696969;\n",
       "\n",
       "  @media (prefers-color-scheme: dark) {\n",
       "    /* Redefinition of color scheme for dark theme */\n",
       "    --sklearn-color-text-on-default-background: var(--sg-text-color, var(--theme-code-foreground, var(--jp-content-font-color1, white)));\n",
       "    --sklearn-color-background: var(--sg-background-color, var(--theme-background, var(--jp-layout-color0, #111)));\n",
       "    --sklearn-color-border-box: var(--sg-text-color, var(--theme-code-foreground, var(--jp-content-font-color1, white)));\n",
       "    --sklearn-color-icon: #878787;\n",
       "  }\n",
       "}\n",
       "\n",
       "#sk-container-id-1 {\n",
       "  color: var(--sklearn-color-text);\n",
       "}\n",
       "\n",
       "#sk-container-id-1 pre {\n",
       "  padding: 0;\n",
       "}\n",
       "\n",
       "#sk-container-id-1 input.sk-hidden--visually {\n",
       "  border: 0;\n",
       "  clip: rect(1px 1px 1px 1px);\n",
       "  clip: rect(1px, 1px, 1px, 1px);\n",
       "  height: 1px;\n",
       "  margin: -1px;\n",
       "  overflow: hidden;\n",
       "  padding: 0;\n",
       "  position: absolute;\n",
       "  width: 1px;\n",
       "}\n",
       "\n",
       "#sk-container-id-1 div.sk-dashed-wrapped {\n",
       "  border: 1px dashed var(--sklearn-color-line);\n",
       "  margin: 0 0.4em 0.5em 0.4em;\n",
       "  box-sizing: border-box;\n",
       "  padding-bottom: 0.4em;\n",
       "  background-color: var(--sklearn-color-background);\n",
       "}\n",
       "\n",
       "#sk-container-id-1 div.sk-container {\n",
       "  /* jupyter's `normalize.less` sets `[hidden] { display: none; }`\n",
       "     but bootstrap.min.css set `[hidden] { display: none !important; }`\n",
       "     so we also need the `!important` here to be able to override the\n",
       "     default hidden behavior on the sphinx rendered scikit-learn.org.\n",
       "     See: https://github.com/scikit-learn/scikit-learn/issues/21755 */\n",
       "  display: inline-block !important;\n",
       "  position: relative;\n",
       "}\n",
       "\n",
       "#sk-container-id-1 div.sk-text-repr-fallback {\n",
       "  display: none;\n",
       "}\n",
       "\n",
       "div.sk-parallel-item,\n",
       "div.sk-serial,\n",
       "div.sk-item {\n",
       "  /* draw centered vertical line to link estimators */\n",
       "  background-image: linear-gradient(var(--sklearn-color-text-on-default-background), var(--sklearn-color-text-on-default-background));\n",
       "  background-size: 2px 100%;\n",
       "  background-repeat: no-repeat;\n",
       "  background-position: center center;\n",
       "}\n",
       "\n",
       "/* Parallel-specific style estimator block */\n",
       "\n",
       "#sk-container-id-1 div.sk-parallel-item::after {\n",
       "  content: \"\";\n",
       "  width: 100%;\n",
       "  border-bottom: 2px solid var(--sklearn-color-text-on-default-background);\n",
       "  flex-grow: 1;\n",
       "}\n",
       "\n",
       "#sk-container-id-1 div.sk-parallel {\n",
       "  display: flex;\n",
       "  align-items: stretch;\n",
       "  justify-content: center;\n",
       "  background-color: var(--sklearn-color-background);\n",
       "  position: relative;\n",
       "}\n",
       "\n",
       "#sk-container-id-1 div.sk-parallel-item {\n",
       "  display: flex;\n",
       "  flex-direction: column;\n",
       "}\n",
       "\n",
       "#sk-container-id-1 div.sk-parallel-item:first-child::after {\n",
       "  align-self: flex-end;\n",
       "  width: 50%;\n",
       "}\n",
       "\n",
       "#sk-container-id-1 div.sk-parallel-item:last-child::after {\n",
       "  align-self: flex-start;\n",
       "  width: 50%;\n",
       "}\n",
       "\n",
       "#sk-container-id-1 div.sk-parallel-item:only-child::after {\n",
       "  width: 0;\n",
       "}\n",
       "\n",
       "/* Serial-specific style estimator block */\n",
       "\n",
       "#sk-container-id-1 div.sk-serial {\n",
       "  display: flex;\n",
       "  flex-direction: column;\n",
       "  align-items: center;\n",
       "  background-color: var(--sklearn-color-background);\n",
       "  padding-right: 1em;\n",
       "  padding-left: 1em;\n",
       "}\n",
       "\n",
       "\n",
       "/* Toggleable style: style used for estimator/Pipeline/ColumnTransformer box that is\n",
       "clickable and can be expanded/collapsed.\n",
       "- Pipeline and ColumnTransformer use this feature and define the default style\n",
       "- Estimators will overwrite some part of the style using the `sk-estimator` class\n",
       "*/\n",
       "\n",
       "/* Pipeline and ColumnTransformer style (default) */\n",
       "\n",
       "#sk-container-id-1 div.sk-toggleable {\n",
       "  /* Default theme specific background. It is overwritten whether we have a\n",
       "  specific estimator or a Pipeline/ColumnTransformer */\n",
       "  background-color: var(--sklearn-color-background);\n",
       "}\n",
       "\n",
       "/* Toggleable label */\n",
       "#sk-container-id-1 label.sk-toggleable__label {\n",
       "  cursor: pointer;\n",
       "  display: block;\n",
       "  width: 100%;\n",
       "  margin-bottom: 0;\n",
       "  padding: 0.5em;\n",
       "  box-sizing: border-box;\n",
       "  text-align: center;\n",
       "}\n",
       "\n",
       "#sk-container-id-1 label.sk-toggleable__label-arrow:before {\n",
       "  /* Arrow on the left of the label */\n",
       "  content: \"▸\";\n",
       "  float: left;\n",
       "  margin-right: 0.25em;\n",
       "  color: var(--sklearn-color-icon);\n",
       "}\n",
       "\n",
       "#sk-container-id-1 label.sk-toggleable__label-arrow:hover:before {\n",
       "  color: var(--sklearn-color-text);\n",
       "}\n",
       "\n",
       "/* Toggleable content - dropdown */\n",
       "\n",
       "#sk-container-id-1 div.sk-toggleable__content {\n",
       "  max-height: 0;\n",
       "  max-width: 0;\n",
       "  overflow: hidden;\n",
       "  text-align: left;\n",
       "  /* unfitted */\n",
       "  background-color: var(--sklearn-color-unfitted-level-0);\n",
       "}\n",
       "\n",
       "#sk-container-id-1 div.sk-toggleable__content.fitted {\n",
       "  /* fitted */\n",
       "  background-color: var(--sklearn-color-fitted-level-0);\n",
       "}\n",
       "\n",
       "#sk-container-id-1 div.sk-toggleable__content pre {\n",
       "  margin: 0.2em;\n",
       "  border-radius: 0.25em;\n",
       "  color: var(--sklearn-color-text);\n",
       "  /* unfitted */\n",
       "  background-color: var(--sklearn-color-unfitted-level-0);\n",
       "}\n",
       "\n",
       "#sk-container-id-1 div.sk-toggleable__content.fitted pre {\n",
       "  /* unfitted */\n",
       "  background-color: var(--sklearn-color-fitted-level-0);\n",
       "}\n",
       "\n",
       "#sk-container-id-1 input.sk-toggleable__control:checked~div.sk-toggleable__content {\n",
       "  /* Expand drop-down */\n",
       "  max-height: 200px;\n",
       "  max-width: 100%;\n",
       "  overflow: auto;\n",
       "}\n",
       "\n",
       "#sk-container-id-1 input.sk-toggleable__control:checked~label.sk-toggleable__label-arrow:before {\n",
       "  content: \"▾\";\n",
       "}\n",
       "\n",
       "/* Pipeline/ColumnTransformer-specific style */\n",
       "\n",
       "#sk-container-id-1 div.sk-label input.sk-toggleable__control:checked~label.sk-toggleable__label {\n",
       "  color: var(--sklearn-color-text);\n",
       "  background-color: var(--sklearn-color-unfitted-level-2);\n",
       "}\n",
       "\n",
       "#sk-container-id-1 div.sk-label.fitted input.sk-toggleable__control:checked~label.sk-toggleable__label {\n",
       "  background-color: var(--sklearn-color-fitted-level-2);\n",
       "}\n",
       "\n",
       "/* Estimator-specific style */\n",
       "\n",
       "/* Colorize estimator box */\n",
       "#sk-container-id-1 div.sk-estimator input.sk-toggleable__control:checked~label.sk-toggleable__label {\n",
       "  /* unfitted */\n",
       "  background-color: var(--sklearn-color-unfitted-level-2);\n",
       "}\n",
       "\n",
       "#sk-container-id-1 div.sk-estimator.fitted input.sk-toggleable__control:checked~label.sk-toggleable__label {\n",
       "  /* fitted */\n",
       "  background-color: var(--sklearn-color-fitted-level-2);\n",
       "}\n",
       "\n",
       "#sk-container-id-1 div.sk-label label.sk-toggleable__label,\n",
       "#sk-container-id-1 div.sk-label label {\n",
       "  /* The background is the default theme color */\n",
       "  color: var(--sklearn-color-text-on-default-background);\n",
       "}\n",
       "\n",
       "/* On hover, darken the color of the background */\n",
       "#sk-container-id-1 div.sk-label:hover label.sk-toggleable__label {\n",
       "  color: var(--sklearn-color-text);\n",
       "  background-color: var(--sklearn-color-unfitted-level-2);\n",
       "}\n",
       "\n",
       "/* Label box, darken color on hover, fitted */\n",
       "#sk-container-id-1 div.sk-label.fitted:hover label.sk-toggleable__label.fitted {\n",
       "  color: var(--sklearn-color-text);\n",
       "  background-color: var(--sklearn-color-fitted-level-2);\n",
       "}\n",
       "\n",
       "/* Estimator label */\n",
       "\n",
       "#sk-container-id-1 div.sk-label label {\n",
       "  font-family: monospace;\n",
       "  font-weight: bold;\n",
       "  display: inline-block;\n",
       "  line-height: 1.2em;\n",
       "}\n",
       "\n",
       "#sk-container-id-1 div.sk-label-container {\n",
       "  text-align: center;\n",
       "}\n",
       "\n",
       "/* Estimator-specific */\n",
       "#sk-container-id-1 div.sk-estimator {\n",
       "  font-family: monospace;\n",
       "  border: 1px dotted var(--sklearn-color-border-box);\n",
       "  border-radius: 0.25em;\n",
       "  box-sizing: border-box;\n",
       "  margin-bottom: 0.5em;\n",
       "  /* unfitted */\n",
       "  background-color: var(--sklearn-color-unfitted-level-0);\n",
       "}\n",
       "\n",
       "#sk-container-id-1 div.sk-estimator.fitted {\n",
       "  /* fitted */\n",
       "  background-color: var(--sklearn-color-fitted-level-0);\n",
       "}\n",
       "\n",
       "/* on hover */\n",
       "#sk-container-id-1 div.sk-estimator:hover {\n",
       "  /* unfitted */\n",
       "  background-color: var(--sklearn-color-unfitted-level-2);\n",
       "}\n",
       "\n",
       "#sk-container-id-1 div.sk-estimator.fitted:hover {\n",
       "  /* fitted */\n",
       "  background-color: var(--sklearn-color-fitted-level-2);\n",
       "}\n",
       "\n",
       "/* Specification for estimator info (e.g. \"i\" and \"?\") */\n",
       "\n",
       "/* Common style for \"i\" and \"?\" */\n",
       "\n",
       ".sk-estimator-doc-link,\n",
       "a:link.sk-estimator-doc-link,\n",
       "a:visited.sk-estimator-doc-link {\n",
       "  float: right;\n",
       "  font-size: smaller;\n",
       "  line-height: 1em;\n",
       "  font-family: monospace;\n",
       "  background-color: var(--sklearn-color-background);\n",
       "  border-radius: 1em;\n",
       "  height: 1em;\n",
       "  width: 1em;\n",
       "  text-decoration: none !important;\n",
       "  margin-left: 1ex;\n",
       "  /* unfitted */\n",
       "  border: var(--sklearn-color-unfitted-level-1) 1pt solid;\n",
       "  color: var(--sklearn-color-unfitted-level-1);\n",
       "}\n",
       "\n",
       ".sk-estimator-doc-link.fitted,\n",
       "a:link.sk-estimator-doc-link.fitted,\n",
       "a:visited.sk-estimator-doc-link.fitted {\n",
       "  /* fitted */\n",
       "  border: var(--sklearn-color-fitted-level-1) 1pt solid;\n",
       "  color: var(--sklearn-color-fitted-level-1);\n",
       "}\n",
       "\n",
       "/* On hover */\n",
       "div.sk-estimator:hover .sk-estimator-doc-link:hover,\n",
       ".sk-estimator-doc-link:hover,\n",
       "div.sk-label-container:hover .sk-estimator-doc-link:hover,\n",
       ".sk-estimator-doc-link:hover {\n",
       "  /* unfitted */\n",
       "  background-color: var(--sklearn-color-unfitted-level-3);\n",
       "  color: var(--sklearn-color-background);\n",
       "  text-decoration: none;\n",
       "}\n",
       "\n",
       "div.sk-estimator.fitted:hover .sk-estimator-doc-link.fitted:hover,\n",
       ".sk-estimator-doc-link.fitted:hover,\n",
       "div.sk-label-container:hover .sk-estimator-doc-link.fitted:hover,\n",
       ".sk-estimator-doc-link.fitted:hover {\n",
       "  /* fitted */\n",
       "  background-color: var(--sklearn-color-fitted-level-3);\n",
       "  color: var(--sklearn-color-background);\n",
       "  text-decoration: none;\n",
       "}\n",
       "\n",
       "/* Span, style for the box shown on hovering the info icon */\n",
       ".sk-estimator-doc-link span {\n",
       "  display: none;\n",
       "  z-index: 9999;\n",
       "  position: relative;\n",
       "  font-weight: normal;\n",
       "  right: .2ex;\n",
       "  padding: .5ex;\n",
       "  margin: .5ex;\n",
       "  width: min-content;\n",
       "  min-width: 20ex;\n",
       "  max-width: 50ex;\n",
       "  color: var(--sklearn-color-text);\n",
       "  box-shadow: 2pt 2pt 4pt #999;\n",
       "  /* unfitted */\n",
       "  background: var(--sklearn-color-unfitted-level-0);\n",
       "  border: .5pt solid var(--sklearn-color-unfitted-level-3);\n",
       "}\n",
       "\n",
       ".sk-estimator-doc-link.fitted span {\n",
       "  /* fitted */\n",
       "  background: var(--sklearn-color-fitted-level-0);\n",
       "  border: var(--sklearn-color-fitted-level-3);\n",
       "}\n",
       "\n",
       ".sk-estimator-doc-link:hover span {\n",
       "  display: block;\n",
       "}\n",
       "\n",
       "/* \"?\"-specific style due to the `<a>` HTML tag */\n",
       "\n",
       "#sk-container-id-1 a.estimator_doc_link {\n",
       "  float: right;\n",
       "  font-size: 1rem;\n",
       "  line-height: 1em;\n",
       "  font-family: monospace;\n",
       "  background-color: var(--sklearn-color-background);\n",
       "  border-radius: 1rem;\n",
       "  height: 1rem;\n",
       "  width: 1rem;\n",
       "  text-decoration: none;\n",
       "  /* unfitted */\n",
       "  color: var(--sklearn-color-unfitted-level-1);\n",
       "  border: var(--sklearn-color-unfitted-level-1) 1pt solid;\n",
       "}\n",
       "\n",
       "#sk-container-id-1 a.estimator_doc_link.fitted {\n",
       "  /* fitted */\n",
       "  border: var(--sklearn-color-fitted-level-1) 1pt solid;\n",
       "  color: var(--sklearn-color-fitted-level-1);\n",
       "}\n",
       "\n",
       "/* On hover */\n",
       "#sk-container-id-1 a.estimator_doc_link:hover {\n",
       "  /* unfitted */\n",
       "  background-color: var(--sklearn-color-unfitted-level-3);\n",
       "  color: var(--sklearn-color-background);\n",
       "  text-decoration: none;\n",
       "}\n",
       "\n",
       "#sk-container-id-1 a.estimator_doc_link.fitted:hover {\n",
       "  /* fitted */\n",
       "  background-color: var(--sklearn-color-fitted-level-3);\n",
       "}\n",
       "</style><div id=\"sk-container-id-1\" class=\"sk-top-container\"><div class=\"sk-text-repr-fallback\"><pre>LinearRegression()</pre><b>In a Jupyter environment, please rerun this cell to show the HTML representation or trust the notebook. <br />On GitHub, the HTML representation is unable to render, please try loading this page with nbviewer.org.</b></div><div class=\"sk-container\" hidden><div class=\"sk-item\"><div class=\"sk-estimator fitted sk-toggleable\"><input class=\"sk-toggleable__control sk-hidden--visually\" id=\"sk-estimator-id-1\" type=\"checkbox\" checked><label for=\"sk-estimator-id-1\" class=\"sk-toggleable__label fitted sk-toggleable__label-arrow fitted\">&nbsp;&nbsp;LinearRegression<a class=\"sk-estimator-doc-link fitted\" rel=\"noreferrer\" target=\"_blank\" href=\"https://scikit-learn.org/1.4/modules/generated/sklearn.linear_model.LinearRegression.html\">?<span>Documentation for LinearRegression</span></a><span class=\"sk-estimator-doc-link fitted\">i<span>Fitted</span></span></label><div class=\"sk-toggleable__content fitted\"><pre>LinearRegression()</pre></div> </div></div></div></div>"
      ],
      "text/plain": [
       "LinearRegression()"
      ]
     },
     "execution_count": 23,
     "metadata": {},
     "output_type": "execute_result"
    }
   ],
   "source": [
    "#when u run fit it runs a model\n",
    "from sklearn.linear_model import LinearRegression\n",
    "linreg = LinearRegression()\n",
    "linreg.fit(lcn_train_x, lcn_train_y)\n"
   ]
  },
  {
   "cell_type": "code",
   "execution_count": 25,
   "id": "57405ffd-6755-4725-b84d-3dd4f379e25d",
   "metadata": {},
   "outputs": [
    {
     "data": {
      "text/plain": [
       "0.8638237171917977"
      ]
     },
     "execution_count": 25,
     "metadata": {},
     "output_type": "execute_result"
    }
   ],
   "source": [
    "# Rsquare\n",
    "Rsquare = linreg.score(lcn_train_x, lcn_train_y)\n",
    "Rsquare"
   ]
  },
  {
   "cell_type": "code",
   "execution_count": 27,
   "id": "b271cc88-291f-4bfd-aa72-20ece8418b7f",
   "metadata": {},
   "outputs": [
    {
     "data": {
      "text/plain": [
       "0.8626375126377193"
      ]
     },
     "execution_count": 27,
     "metadata": {},
     "output_type": "execute_result"
    }
   ],
   "source": [
    "N = lcn_train_x.shape[0]\n",
    "K = lcn_train_x.shape[1]\n",
    "Adj_Rsq = 1 - (1 - Rsquare) * (N - 1)/(N - K - 1)\n",
    "Adj_Rsq"
   ]
  },
  {
   "cell_type": "code",
   "execution_count": 29,
   "id": "80f72aaf-0fca-4ad0-9fea-487f7603a8d1",
   "metadata": {},
   "outputs": [
    {
     "data": {
      "text/plain": [
       "-10.791647772995223"
      ]
     },
     "execution_count": 29,
     "metadata": {},
     "output_type": "execute_result"
    }
   ],
   "source": [
    "#how any model will do the prediction--\n",
    "# it will build a equation(relation) between x and y\n",
    "# and using that equation it will do the prediction\n",
    "\n",
    "linreg.intercept_   #B0"
   ]
  },
  {
   "cell_type": "code",
   "execution_count": 31,
   "id": "c3fce0dc-08fb-439d-b1b1-f1d2aac554c8",
   "metadata": {},
   "outputs": [
    {
     "data": {
      "text/plain": [
       "array([ 0.16826963,  0.26085846, -0.63154371, -0.38368755, -0.22526369])"
      ]
     },
     "execution_count": 31,
     "metadata": {},
     "output_type": "execute_result"
    }
   ],
   "source": [
    "linreg.coef_"
   ]
  },
  {
   "cell_type": "code",
   "execution_count": 33,
   "id": "869a0775-98e3-40fa-89b7-cf9d8eb791c6",
   "metadata": {},
   "outputs": [
    {
     "data": {
      "text/plain": [
       "array([ 4.24060183,  7.59774475, 10.14933533,  9.14631861,  4.55363199,\n",
       "        9.77831897,  6.0688567 ,  5.89688239,  9.15101091,  2.6332552 ,\n",
       "        3.96521103,  9.96640329, 11.54073189,  6.66816321,  6.44581311,\n",
       "        7.25862875,  9.26208544,  6.84158632, 11.48182905, 12.36114768,\n",
       "        8.38052119,  6.99294792,  3.07829226,  5.7297407 ,  5.40495599,\n",
       "        9.94547092,  9.73163067, 10.42306603,  5.0935035 , 10.13724966,\n",
       "        6.92208948,  6.00862487,  7.33946303,  8.24058303,  6.88121236,\n",
       "        7.52464069,  7.43898405,  2.46174087,  5.53538522,  5.80555157,\n",
       "        8.32768846, 11.47680564,  7.20678817,  7.98857246,  5.3190983 ,\n",
       "        6.24630415, 11.60723487,  8.18338792,  6.18495464,  7.85444881,\n",
       "        7.60276816,  6.88669576, 10.14900422, 10.50007582,  3.53608294,\n",
       "        9.45228651,  9.74840864,  6.45512099,  3.25171536, 10.79857364,\n",
       "       10.40761705,  8.87839789,  9.82164277,  4.55085421,  8.82377953,\n",
       "        7.52451062,  9.55160649,  6.31986939,  9.4094227 ,  3.11613266,\n",
       "        6.91033493,  6.48556229,  8.25233758,  6.55642765,  7.9823013 ,\n",
       "       11.64785306,  9.48464352,  7.15124864,  7.31582385,  7.8092093 ,\n",
       "        7.72144284,  2.66851886, 10.53356077,  8.01511829,  7.42141498,\n",
       "        5.19111574,  9.90247704,  9.16982772,  8.08273896,  7.09035912,\n",
       "        8.05071307, 11.58617244,  8.03447299,  7.18539462,  9.92856289,\n",
       "        5.78191239,  6.5736656 ,  5.07257113,  8.51319604,  6.50213921,\n",
       "       13.00153928,  8.7883858 ,  7.1116226 ,  5.51603052,  7.30664603,\n",
       "        9.65964429, 10.96135987, 12.10286595,  8.28548568,  6.41728059,\n",
       "        8.13121623,  9.71459377,  5.74407199,  9.07275337,  6.41615264,\n",
       "        9.8579055 , 11.29922813, 11.70742385,  9.70923925,  9.48755018,\n",
       "        5.65148316,  7.12404511, 13.5754279 ,  7.31482597,  4.34752196,\n",
       "       11.0409464 , 10.76575665,  3.25171536, 10.3862235 ,  6.14209083,\n",
       "        9.81233489,  7.68293448,  7.31080044,  9.97400344,  5.99059916,\n",
       "       10.0037837 ,  8.13881638,  7.06427327,  6.52822505,  6.25257531,\n",
       "        4.33298962,  7.90404376, 10.95766545,  8.11688494,  7.69680578,\n",
       "        5.77015784,  6.70151809,  4.97582789,  9.35467427,  6.16559994,\n",
       "        5.58498018, 11.08584906,  9.69075355,  9.66770443,  4.42300171,\n",
       "        8.27842343,  3.27780121, 11.53400074,  7.42947512,  7.76859112,\n",
       "        3.97696559,  6.41728059,  6.52407064, 12.3471475 , 11.97936891,\n",
       "        4.23109291,  3.61434048,  6.52149391,  8.06246762, 12.38723352,\n",
       "        5.15585208,  8.16490223,  7.02887954,  8.49641808, 12.94454523,\n",
       "        9.67945898,  7.02385613,  8.63860187,  7.07120546,  5.89318797,\n",
       "        8.53010407,  9.85288209,  9.60074146,  9.27899347,  8.11028386,\n",
       "        5.71540941,  7.69726577, 10.85576874,  9.10801822, 10.7581565 ,\n",
       "        6.44323637,  8.91379162,  7.17521774,  5.43104184,  3.27107007,\n",
       "        8.17408004, 11.56939447,  8.96616436,  8.98274128,  4.38516131,\n",
       "        6.07545778,  7.6755423 , 10.20877606, 12.42091952,  7.87538118,\n",
       "        8.99594463,  8.83553408,  3.35850542,  8.93730073,  4.50628266,\n",
       "        7.31337718,  9.07275337,  7.50257918, 11.49740809,  7.44122967,\n",
       "        4.49195137,  4.94716531, 12.43940522, 10.04466083,  8.07231339,\n",
       "        8.01769503,  7.06447432, 10.90034028,  5.18866907,  7.28729133,\n",
       "        4.95389646,  8.08855347, 10.25288761,  9.18660569,  4.42300171,\n",
       "        7.84011751, 10.94333416,  9.96898003,  6.17993123,  7.70486592,\n",
       "        6.82019277,  4.02656054,  9.64406525, 10.44790413,  6.4786301 ,\n",
       "       13.31456944, 11.56959552, 10.26721891, 11.05685536, 10.39955692,\n",
       "        6.59750582,  9.57096119,  9.47334895,  5.63715187, 11.4322341 ,\n",
       "       10.25077086,  8.3777434 ,  7.59470803,  6.71327265,  8.46102435,\n",
       "        8.63444746,  5.26210425,  3.46991106,  7.78034568,  7.27798345,\n",
       "       10.11361049,  9.29074802, 11.34895315, 10.04868636,  8.96596331,\n",
       "        1.58982135, 10.89116247,  3.16157321, 10.41746283, 10.90291702,\n",
       "        5.75998095,  8.31639389, 10.86507662,  5.74149525,  5.39253348,\n",
       "        9.33776624,  9.21249049,  9.23857633, 10.78681908, 11.39439369,\n",
       "        7.47491567,  5.45712768,  5.81472938,  7.67844896,  4.64846645,\n",
       "        6.32456169, 10.7396708 , 10.86877104,  6.00235372, 10.80550583,\n",
       "        9.8883468 ,  9.28401688,  7.24932087,  3.50584268,  8.44424639,\n",
       "        7.10971382,  7.96797001,  3.18765905, 12.42540504,  6.22694945,\n",
       "        9.44970977,  8.87615227,  9.59704704,  7.33430955,  9.31670381,\n",
       "        3.4393397 , 11.48889131,  8.84055749, 10.70810156,  4.2639099 ,\n",
       "        6.24227981,  8.64989643, 10.8484997 ,  4.10324041, 10.31985059,\n",
       "        9.99202915, 10.3483831 ,  6.28314667,  9.05339867, 12.29497581,\n",
       "       11.34895315, 10.13724966,  3.62642614,  8.81189491,  7.25222872,\n",
       "        5.94760529,  9.33361183, 10.33853733,  6.92902168,  7.56492776,\n",
       "       11.16635222, 11.6167438 ,  5.3569387 ,  7.58083672,  8.22658285,\n",
       "        9.87381446,  9.16658995,  9.09639255, 10.81548167,  7.55059647,\n",
       "        6.06627997, 10.71616169,  9.49012691,  7.64991644, 10.79857364,\n",
       "        9.53312079,  6.55015649,  2.79167906,  6.37448776,  5.76691315,\n",
       "        5.73924963,  4.75974202,  5.23668636,  5.72471729,  7.94861531,\n",
       "       10.09010138,  4.87563892,  9.31425713,  8.97771787,  7.59728476,\n",
       "        6.41972726,  3.31584266,  8.12863949,  9.95464874, 10.75848761,\n",
       "        6.79668366,  4.75280983,  8.65035642, 11.64765201, 12.36147879,\n",
       "        9.25826214,  2.19897363,  8.77530226,  2.42199169,  5.80799824,\n",
       "        7.94603857, 11.51194043,  6.14209083,  4.64846645,  6.39139579,\n",
       "        2.75886207,  6.56191105,  8.55361318,  6.643863  ,  7.95119205,\n",
       "       10.87940791,  8.27340002,  7.85344974,  9.00089706,  3.49151139,\n",
       "        3.88022235, 10.57330995,  7.7512231 ,  8.13154734,  7.51017933,\n",
       "        2.95961758,  8.98049565, 10.50489818,  4.97515994, 11.70900152,\n",
       "        9.612956  ,  8.50837368,  8.51352716,  9.80315707,  7.16637103,\n",
       "        8.24473743,  9.47354999,  5.7675811 , 10.12291837,  8.36116649,\n",
       "        7.61967619,  9.82197388, 11.24203302, 11.75701881,  6.86991779,\n",
       "        6.56606545,  4.00562817, 12.16521453,  7.26378222,  9.26175552,\n",
       "        3.58152348,  7.73510617,  5.82232953, 10.61597271, 10.37222332,\n",
       "        2.20155037,  9.14876528,  5.66079104,  8.09337583,  5.00864489,\n",
       "        8.50144149,  5.20300036,  9.11574725,  3.9966514 , 11.6739389 ,\n",
       "       11.13768964,  8.27294003,  6.36755557,  5.10816591, 10.54049296,\n",
       "        9.84772861,  7.2703833 ,  8.63220183,  9.5944703 , 10.18526695,\n",
       "       11.90111137,  8.54621408,  9.84792966,  3.68104451,  5.15360645,\n",
       "        7.98923349,  2.030704  ,  5.63860066,  9.97815785,  8.18841133,\n",
       "        6.31683267,  2.57090662,  7.34864084,  7.26120549,  7.07120546,\n",
       "        8.04378088,  8.47033223,  1.14636196,  8.04120414, 11.19243807,\n",
       "        7.52708736,  5.68687689, 10.89876261,  9.17900554,  5.82602395,\n",
       "       12.10028922,  7.72592836,  6.45756766,  9.01140386,  3.95365752,\n",
       "        6.65225425,  5.3832256 ,  6.049502  ,  8.84055749,  3.88279909,\n",
       "        3.12373281,  8.04622755,  6.35322427,  8.06986672,  9.13423295,\n",
       "        7.86362662, 11.85085538,  7.93137736, 10.04968424,  4.67712903,\n",
       "        5.32412171,  5.15082867,  9.46919454,  6.30778373,  9.75480986,\n",
       "        3.8845778 , 10.70598481,  5.96451332, 10.10443267,  4.54412306,\n",
       "       12.33763857,  5.84583864,  6.69907142, 10.16980771, 12.23071845,\n",
       "        4.90932491, 11.60050373,  8.38725233,  8.97771787, 10.60924157,\n",
       "       10.490898  ,  8.57242999,  6.8555865 ,  9.16401321,  9.2553543 ,\n",
       "        6.35580101,  3.33241958,  9.26723892,  4.98255904,  6.23903512,\n",
       "        7.77361453, 10.17251332,  7.24707524,  6.164472  , 10.23161721,\n",
       "       12.63151507,  5.05823984,  8.11688494, 10.08507797,  7.96539327,\n",
       "        7.83014168,  7.11889163,  7.80385478,  7.24014305,  8.50817264,\n",
       "        3.41067711,  4.49452811,  9.04666753, 11.43896524,  4.52061395,\n",
       "        8.16007986,  9.1783445 ,  9.93616304,  5.45210427, 10.68023007,\n",
       "        4.2075838 ,  6.21104049,  8.23331399,  8.16681101,  5.17691452,\n",
       "        8.06471325,  7.55732761,  9.91667827,  7.1947025 , 10.05641539,\n",
       "        5.48063679,  6.52049603,  8.033144  ,  8.77663125,  4.89254695,\n",
       "       11.35813096,  2.56450659,  9.42620067, 11.03849973,  9.80942823,\n",
       "        5.00560816,  6.14711424,  7.05496539, 10.27943345,  8.2189827 ,\n",
       "        2.83176509,  4.29514922,  7.38905798,  7.31337718,  8.63860187,\n",
       "        9.81615937,  8.16232549,  9.42375399,  7.18057226,  8.94680966])"
      ]
     },
     "execution_count": 33,
     "metadata": {},
     "output_type": "execute_result"
    }
   ],
   "source": [
    "pred_train = linreg.predict(lcn_train_x)\n",
    "pred_train"
   ]
  },
  {
   "cell_type": "code",
   "execution_count": 35,
   "id": "c66e107a-2ef2-4d57-9b7f-31d5af55a95f",
   "metadata": {},
   "outputs": [
    {
     "data": {
      "text/plain": [
       "169    0.084398\n",
       "244    1.902255\n",
       "521   -0.299335\n",
       "377   -0.521319\n",
       "490   -0.303632\n",
       "         ...   \n",
       "96    -2.266159\n",
       "260    0.687675\n",
       "7     -2.098754\n",
       "349    1.294428\n",
       "695   -0.696810\n",
       "Name: LungCap, Length: 580, dtype: float64"
      ]
     },
     "execution_count": 35,
     "metadata": {},
     "output_type": "execute_result"
    }
   ],
   "source": [
    "err_train = lcn_train_y - pred_train   #(actual - predicted)\n",
    "err_train\n"
   ]
  },
  {
   "cell_type": "code",
   "execution_count": 37,
   "id": "1d711eb6-5051-42fa-8ba9-a25ca10221c2",
   "metadata": {},
   "outputs": [],
   "source": [
    "# Checking asumption\n",
    "#  Asumption are alwys checked on train data\n",
    "# mean of ur error term should be closw to 0 if not exactly 0\n",
    "# error term"
   ]
  },
  {
   "cell_type": "code",
   "execution_count": 39,
   "id": "71cce85d-5d1a-438d-8bb4-125e2ac6d42f",
   "metadata": {},
   "outputs": [
    {
     "data": {
      "text/plain": [
       "-2.6859740485414133e-15"
      ]
     },
     "execution_count": 39,
     "metadata": {},
     "output_type": "execute_result"
    }
   ],
   "source": [
    "err_train.mean()"
   ]
  },
  {
   "cell_type": "code",
   "execution_count": 43,
   "id": "f5e8b8b6-f506-4e5b-863e-85d613d161f9",
   "metadata": {},
   "outputs": [
    {
     "data": {
      "text/plain": [
       "True"
      ]
     },
     "execution_count": 43,
     "metadata": {},
     "output_type": "execute_result"
    }
   ],
   "source": [
    "1.1576946298160252e-15 < 0.0000000000001"
   ]
  },
  {
   "cell_type": "code",
   "execution_count": 45,
   "id": "2939d4dc-b158-47a8-b699-a054392284b5",
   "metadata": {},
   "outputs": [
    {
     "data": {
      "text/plain": [
       "-0.08926109669406253"
      ]
     },
     "execution_count": 45,
     "metadata": {},
     "output_type": "execute_result"
    }
   ],
   "source": [
    "err_train.skew()"
   ]
  },
  {
   "cell_type": "code",
   "execution_count": 47,
   "id": "27092991-3f4a-4a52-ac76-b7bf2ac132fb",
   "metadata": {},
   "outputs": [
    {
     "data": {
      "text/plain": [
       "2.668740741458238"
      ]
     },
     "execution_count": 47,
     "metadata": {},
     "output_type": "execute_result"
    }
   ],
   "source": [
    "err_train.kurtosis() + 3"
   ]
  },
  {
   "cell_type": "code",
   "execution_count": 49,
   "id": "a29e009b-bbe0-4b10-96a1-377cee088aa3",
   "metadata": {},
   "outputs": [
    {
     "data": {
      "image/png": "[encoded data removed]",
      "text/plain": [
       "<Figure size 640x480 with 1 Axes>"
      ]
     },
     "metadata": {},
     "output_type": "display_data"
    }
   ],
   "source": [
    "import matplotlib.pyplot as plt\n",
    "\n",
    "plt.hist(err_train, bins = 30, edgecolor = 'red')\n",
    "plt.show()"
   ]
  },
  {
   "cell_type": "code",
   "execution_count": 51,
   "id": "c70108b1-ae76-4c8b-9cd4-4712ecdefce1",
   "metadata": {},
   "outputs": [
    {
     "data": {
      "text/plain": [
       "[<matplotlib.lines.Line2D at 0x23d38a05d00>]"
      ]
     },
     "execution_count": 51,
     "metadata": {},
     "output_type": "execute_result"
    },
    {
     "data": {
      "image/png": "[encoded data removed]",
      "text/plain": [
       "<Figure size 640x480 with 1 Axes>"
      ]
     },
     "metadata": {},
     "output_type": "display_data"
    }
   ],
   "source": [
    "plt.plot(err_train,'.')\n",
    "#erros main pattern nhi hona chahiye"
   ]
  },
  {
   "cell_type": "code",
   "execution_count": 53,
   "id": "3c79c608-c91a-46f2-ac4d-3a453c79b208",
   "metadata": {},
   "outputs": [],
   "source": [
    "import seaborn as sns"
   ]
  },
  {
   "cell_type": "code",
   "execution_count": 55,
   "id": "1d4c45ed-8778-40b5-9b54-110b7ea1f327",
   "metadata": {},
   "outputs": [
    {
     "data": {
      "text/plain": [
       "<Axes: ylabel='LungCap'>"
      ]
     },
     "execution_count": 55,
     "metadata": {},
     "output_type": "execute_result"
    },
    {
     "data": {
      "image/png": "[encoded data removed]",
      "text/plain": [
       "<Figure size 640x480 with 1 Axes>"
      ]
     },
     "metadata": {},
     "output_type": "display_data"
    }
   ],
   "source": [
    "sns.boxplot(err_train, color='grey')"
   ]
  },
  {
   "cell_type": "code",
   "execution_count": 57,
   "id": "b46d8de6-1f57-4339-940a-6d0b056dc7aa",
   "metadata": {},
   "outputs": [],
   "source": [
    "#homoscedasticity :- variance around the regression line is same for all predicted values"
   ]
  },
  {
   "cell_type": "code",
   "execution_count": 59,
   "id": "81f018f4-8b2d-4052-bb96-b795c2f9ab19",
   "metadata": {},
   "outputs": [],
   "source": [
    "actual_pred = pd.DataFrame()\n",
    "actual_pred[\"Actual\"] = lcn_train_y\n",
    "actual_pred[\"Predicted\"] = pred_train"
   ]
  },
  {
   "cell_type": "code",
   "execution_count": 61,
   "id": "d36a5586-d386-4d9a-bc1f-ae354d39cb1f",
   "metadata": {},
   "outputs": [
    {
     "data": {
      "text/html": [
       "<div>\n",
       "<style scoped>\n",
       "    .dataframe tbody tr th:only-of-type {\n",
       "        vertical-align: middle;\n",
       "    }\n",
       "\n",
       "    .dataframe tbody tr th {\n",
       "        vertical-align: top;\n",
       "    }\n",
       "\n",
       "    .dataframe thead th {\n",
       "        text-align: right;\n",
       "    }\n",
       "</style>\n",
       "<table border=\"1\" class=\"dataframe\">\n",
       "  <thead>\n",
       "    <tr style=\"text-align: right;\">\n",
       "      <th></th>\n",
       "      <th>Actual</th>\n",
       "      <th>Predicted</th>\n",
       "    </tr>\n",
       "  </thead>\n",
       "  <tbody>\n",
       "    <tr>\n",
       "      <th>169</th>\n",
       "      <td>4.325</td>\n",
       "      <td>4.240602</td>\n",
       "    </tr>\n",
       "    <tr>\n",
       "      <th>244</th>\n",
       "      <td>9.500</td>\n",
       "      <td>7.597745</td>\n",
       "    </tr>\n",
       "    <tr>\n",
       "      <th>521</th>\n",
       "      <td>9.850</td>\n",
       "      <td>10.149335</td>\n",
       "    </tr>\n",
       "    <tr>\n",
       "      <th>377</th>\n",
       "      <td>8.625</td>\n",
       "      <td>9.146319</td>\n",
       "    </tr>\n",
       "    <tr>\n",
       "      <th>490</th>\n",
       "      <td>4.250</td>\n",
       "      <td>4.553632</td>\n",
       "    </tr>\n",
       "    <tr>\n",
       "      <th>...</th>\n",
       "      <td>...</td>\n",
       "      <td>...</td>\n",
       "    </tr>\n",
       "    <tr>\n",
       "      <th>96</th>\n",
       "      <td>7.550</td>\n",
       "      <td>9.816159</td>\n",
       "    </tr>\n",
       "    <tr>\n",
       "      <th>260</th>\n",
       "      <td>8.850</td>\n",
       "      <td>8.162325</td>\n",
       "    </tr>\n",
       "    <tr>\n",
       "      <th>7</th>\n",
       "      <td>7.325</td>\n",
       "      <td>9.423754</td>\n",
       "    </tr>\n",
       "    <tr>\n",
       "      <th>349</th>\n",
       "      <td>8.475</td>\n",
       "      <td>7.180572</td>\n",
       "    </tr>\n",
       "    <tr>\n",
       "      <th>695</th>\n",
       "      <td>8.250</td>\n",
       "      <td>8.946810</td>\n",
       "    </tr>\n",
       "  </tbody>\n",
       "</table>\n",
       "<p>580 rows × 2 columns</p>\n",
       "</div>"
      ],
      "text/plain": [
       "     Actual  Predicted\n",
       "169   4.325   4.240602\n",
       "244   9.500   7.597745\n",
       "521   9.850  10.149335\n",
       "377   8.625   9.146319\n",
       "490   4.250   4.553632\n",
       "..      ...        ...\n",
       "96    7.550   9.816159\n",
       "260   8.850   8.162325\n",
       "7     7.325   9.423754\n",
       "349   8.475   7.180572\n",
       "695   8.250   8.946810\n",
       "\n",
       "[580 rows x 2 columns]"
      ]
     },
     "execution_count": 61,
     "metadata": {},
     "output_type": "execute_result"
    }
   ],
   "source": [
    "actual_pred"
   ]
  },
  {
   "cell_type": "code",
   "execution_count": 63,
   "id": "90a1d4e4-545b-463c-8d0f-0f1e190794b4",
   "metadata": {},
   "outputs": [
    {
     "data": {
      "image/png": "[encoded data removed]",
      "text/plain": [
       "<Figure size 640x480 with 1 Axes>"
      ]
     },
     "metadata": {},
     "output_type": "display_data"
    }
   ],
   "source": [
    "sns.regplot(x = \"Actual\", y = \"Predicted\", data = actual_pred)\n",
    "plt.show()"
   ]
  },
  {
   "cell_type": "code",
   "execution_count": 65,
   "id": "13f9e4aa-ff15-45e5-b502-86042e6414bc",
   "metadata": {},
   "outputs": [
    {
     "data": {
      "text/plain": [
       "0.9378519780233503"
      ]
     },
     "execution_count": 65,
     "metadata": {},
     "output_type": "execute_result"
    }
   ],
   "source": [
    "# no points should be away frm line\n",
    "import numpy as np\n",
    "#MSE\n",
    "np.mean(np.square(err_train))"
   ]
  },
  {
   "cell_type": "code",
   "execution_count": 67,
   "id": "7d1fd7d1-0da4-4866-a01d-8957d51a7d61",
   "metadata": {},
   "outputs": [
    {
     "data": {
      "text/plain": [
       "0.9378519780233503"
      ]
     },
     "execution_count": 67,
     "metadata": {},
     "output_type": "execute_result"
    }
   ],
   "source": [
    "#MSE\n",
    "from sklearn.metrics import mean_squared_error\n",
    "mse_train = mean_squared_error(lcn_train_y, pred_train)\n",
    "mse_train"
   ]
  },
  {
   "cell_type": "code",
   "execution_count": 69,
   "id": "f472e7dd-68d1-42ff-8508-3c309d52c0f3",
   "metadata": {},
   "outputs": [
    {
     "data": {
      "text/plain": [
       "0.9684275801645419"
      ]
     },
     "execution_count": 69,
     "metadata": {},
     "output_type": "execute_result"
    }
   ],
   "source": [
    "rmse_train = np.sqrt(mse_train)\n",
    "rmse_train"
   ]
  },
  {
   "cell_type": "code",
   "execution_count": 71,
   "id": "3a77ec9d-764e-47ab-bb27-bbe617307a8e",
   "metadata": {},
   "outputs": [
    {
     "data": {
      "text/plain": [
       "13.005963430192727"
      ]
     },
     "execution_count": 71,
     "metadata": {},
     "output_type": "execute_result"
    }
   ],
   "source": [
    "# Mape\n",
    "np.mean(np.abs(err_train * 100/ lcn_train_y))"
   ]
  },
  {
   "cell_type": "code",
   "execution_count": 73,
   "id": "fb0931d0-8af8-40af-bbe4-2f41333de5bf",
   "metadata": {},
   "outputs": [
    {
     "data": {
      "text/plain": [
       "13.005963430192727"
      ]
     },
     "execution_count": 73,
     "metadata": {},
     "output_type": "execute_result"
    }
   ],
   "source": [
    "from sklearn.metrics import mean_absolute_percentage_error\n",
    "\n",
    "mean_absolute_percentage_error(lcn_train_y, pred_train) * 100"
   ]
  },
  {
   "cell_type": "code",
   "execution_count": 75,
   "id": "3fb0f7b4-3c65-458b-9878-fc2c4a18ddc0",
   "metadata": {},
   "outputs": [],
   "source": [
    "# Evaluate our model on test\n",
    "\n",
    "pred_test = linreg.predict(lcn_test_x)\n",
    "err_test = lcn_test_y - pred_test"
   ]
  },
  {
   "cell_type": "code",
   "execution_count": 77,
   "id": "f96efa20-cec0-49a2-a194-05bb9c2ffd1a",
   "metadata": {},
   "outputs": [
    {
     "data": {
      "text/plain": [
       "15.313156451619966"
      ]
     },
     "execution_count": 77,
     "metadata": {},
     "output_type": "execute_result"
    }
   ],
   "source": [
    "mean_absolute_percentage_error(lcn_test_y, pred_test) * 100"
   ]
  },
  {
   "cell_type": "code",
   "execution_count": 79,
   "id": "ec9c9f09-85fc-420b-b985-0b3646b5d004",
   "metadata": {},
   "outputs": [
    {
     "data": {
      "text/plain": [
       "239    1.345616\n",
       "636    0.508809\n",
       "506   -2.239645\n",
       "296    0.554377\n",
       "66    -0.137994\n",
       "         ...   \n",
       "610   -1.150671\n",
       "256    0.889701\n",
       "105    0.272605\n",
       "523   -1.257035\n",
       "240   -0.047453\n",
       "Name: LungCap, Length: 145, dtype: float64"
      ]
     },
     "execution_count": 79,
     "metadata": {},
     "output_type": "execute_result"
    }
   ],
   "source": [
    "err_test"
   ]
  },
  {
   "cell_type": "code",
   "execution_count": null,
   "id": "81dc1448-60bd-4b83-9295-b1e0e0c23651",
   "metadata": {},
   "outputs": [],
   "source": []
  }
 ],
 "metadata": {
  "kernelspec": {
   "display_name": "Python 3 (ipykernel)",
   "language": "python",
   "name": "python3"
  },
  "language_info": {
   "codemirror_mode": {
    "name": "ipython",
    "version": 3
   },
   "file_extension": ".py",
   "mimetype": "text/x-python",
   "name": "python",
   "nbconvert_exporter": "python",
   "pygments_lexer": "ipython3",
   "version": "3.12.4"
  }
 },
 "nbformat": 4,
 "nbformat_minor": 5
}
